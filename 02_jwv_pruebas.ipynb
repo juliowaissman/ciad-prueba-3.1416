{
 "cells": [
  {
   "cell_type": "code",
   "execution_count": 133,
   "metadata": {},
   "outputs": [
    {
     "name": "stdout",
     "output_type": "stream",
     "text": [
      "<class 'pandas.core.frame.DataFrame'>\n",
      "RangeIndex: 1496 entries, 0 to 1495\n",
      "Data columns (total 27 columns):\n",
      " #   Column                                             Non-Null Count  Dtype  \n",
      "---  ------                                             --------------  -----  \n",
      " 0   Unnamed: 0                                         1496 non-null   int64  \n",
      " 1   id_producto                                        1496 non-null   int64  \n",
      " 2   *ano_registro                                      1496 non-null   int64  \n",
      " 3   ano_publicacion                                    1496 non-null   int64  \n",
      " 4   registro_extemporaneo                              59 non-null     object \n",
      " 5   coordinacion                                       1496 non-null   object \n",
      " 6   tipo_producto                                      1496 non-null   object \n",
      " 7   subtipo_producto                                   1496 non-null   object \n",
      " 8   subtipo2                                           415 non-null    object \n",
      " 9   arbitrado?                                         105 non-null    float64\n",
      " 10  titulo                                             1496 non-null   object \n",
      " 11  titulo2                                            629 non-null    object \n",
      " 12  ambito                                             1494 non-null   object \n",
      " 13  revista                                            725 non-null    object \n",
      " 14  issn_printed                                       725 non-null    object \n",
      " 15  issn_online                                        724 non-null    object \n",
      " 16  revista_editorial                                  718 non-null    object \n",
      " 17  indice                                             725 non-null    object \n",
      " 18  factor_impacto                                     614 non-null    object \n",
      " 19  doi                                                431 non-null    object \n",
      " 20  libro                                              104 non-null    object \n",
      " 21  isbn                                               105 non-null    object \n",
      " 22  libro_editorial                                    103 non-null    object \n",
      " 23  cita                                               1495 non-null   object \n",
      " 24  *Autor de correspondencia                          1451 non-null   object \n",
      " 25  Autores | *Autor de correspondencia | ªEstudiante  1496 non-null   object \n",
      " 26  documentos                                         1494 non-null   object \n",
      "dtypes: float64(1), int64(4), object(22)\n",
      "memory usage: 315.7+ KB\n"
     ]
    }
   ],
   "source": [
    "import pandas as pd\n",
    "file_path = \"productos_validados.csv\"\n",
    "df = pd.read_csv(file_path)\n",
    "df.info()"
   ]
  },
  {
   "cell_type": "code",
   "execution_count": 134,
   "metadata": {},
   "outputs": [
    {
     "data": {
      "text/plain": [
       "tipo_producto\n",
       "Artículo científico                                            440\n",
       "Conferencias/Congresos/Reuniones Cientificas                   345\n",
       "Árbitro de artículos de revista                                268\n",
       "Organización de eventos académicos, de extensión y difusión     97\n",
       "Capítulo de libro                                               88\n",
       "Publicaciones derivadas de eventos colectivos                   87\n",
       "Otras participaciones en eventos                                75\n",
       "Evaluador de proyectos                                          37\n",
       "Premios                                                          9\n",
       "Sistema Nacional de Investigadores                               9\n",
       "Miembro de comité editorial                                      8\n",
       "Editor asignado por artículo                                     8\n",
       "Árbitro o dictaminador de capítulo de libro                      6\n",
       "Subcapítulo o artículo de libro                                  6\n",
       "Árbitro o dictaminador de libro                                  2\n",
       "Informe interno anual de actividades                             2\n",
       "Editor de revista                                                2\n",
       "Coordinador de libro                                             2\n",
       "Editor de libro                                                  1\n",
       "Libro                                                            1\n",
       "Editor asignado por número especial                              1\n",
       "Sistema Sinaloense de Investigadores y Tecnólogos                1\n",
       "Academia Mexicana de Ciencias                                    1\n",
       "Name: count, dtype: int64"
      ]
     },
     "execution_count": 134,
     "metadata": {},
     "output_type": "execute_result"
    }
   ],
   "source": [
    "df['tipo_producto'].value_counts()"
   ]
  },
  {
   "cell_type": "code",
   "execution_count": 14,
   "metadata": {},
   "outputs": [],
   "source": [
    "df2 = df.groupby(['coordinacion', 'tipo_producto'])['id_producto'].count()"
   ]
  },
  {
   "cell_type": "code",
   "execution_count": 39,
   "metadata": {},
   "outputs": [
    {
     "name": "stdout",
     "output_type": "stream",
     "text": [
      "[('Ciencia de los Alimentos', 'Artículo científico', 24), ('Ciencia de los Alimentos', 'Capítulo de libro', 2), ('Ciencia de los Alimentos', 'Conferencias/Congresos/Reuniones Cientificas', 28), ('Ciencia de los Alimentos', 'Editor de revista', 1), ('Ciencia de los Alimentos', 'Evaluador de proyectos', 3), ('Ciencia de los Alimentos', 'Miembro de comité editorial', 3), ('Ciencia de los Alimentos', 'Organización de eventos académicos, de extensión y difusión', 9), ('Ciencia de los Alimentos', 'Otras participaciones en eventos', 4), ('Ciencia de los Alimentos', 'Premios', 2), ('Ciencia de los Alimentos', 'Publicaciones derivadas de eventos colectivos', 5), ('Ciencia de los Alimentos', 'Sistema Nacional de Investigadores', 1), ('Ciencia de los Alimentos', 'Árbitro de artículos de revista', 5), ('Cuauhtémoc', 'Artículo científico', 32), ('Cuauhtémoc', 'Capítulo de libro', 1), ('Cuauhtémoc', 'Conferencias/Congresos/Reuniones Cientificas', 4), ('Cuauhtémoc', 'Editor asignado por artículo', 1), ('Cuauhtémoc', 'Otras participaciones en eventos', 1), ('Cuauhtémoc', 'Árbitro de artículos de revista', 15), ('Culiacán', 'Artículo científico', 67), ('Culiacán', 'Capítulo de libro', 8), ('Culiacán', 'Conferencias/Congresos/Reuniones Cientificas', 35), ('Culiacán', 'Editor asignado por artículo', 3), ('Culiacán', 'Evaluador de proyectos', 4), ('Culiacán', 'Organización de eventos académicos, de extensión y difusión', 9), ('Culiacán', 'Otras participaciones en eventos', 18), ('Culiacán', 'Premios', 1), ('Culiacán', 'Publicaciones derivadas de eventos colectivos', 28), ('Culiacán', 'Árbitro de artículos de revista', 21), ('Delicias', 'Artículo científico', 36), ('Delicias', 'Capítulo de libro', 7), ('Delicias', 'Conferencias/Congresos/Reuniones Cientificas', 36), ('Delicias', 'Evaluador de proyectos', 6), ('Delicias', 'Miembro de comité editorial', 2), ('Delicias', 'Organización de eventos académicos, de extensión y difusión', 7), ('Delicias', 'Otras participaciones en eventos', 8), ('Delicias', 'Premios', 2), ('Delicias', 'Publicaciones derivadas de eventos colectivos', 12), ('Delicias', 'Árbitro de artículos de revista', 17), ('Desarrollo Regional', 'Artículo científico', 37), ('Desarrollo Regional', 'Capítulo de libro', 21), ('Desarrollo Regional', 'Conferencias/Congresos/Reuniones Cientificas', 55), ('Desarrollo Regional', 'Coordinador de libro', 2), ('Desarrollo Regional', 'Editor de libro', 1), ('Desarrollo Regional', 'Libro', 1), ('Desarrollo Regional', 'Miembro de comité editorial', 1), ('Desarrollo Regional', 'Organización de eventos académicos, de extensión y difusión', 3), ('Desarrollo Regional', 'Otras participaciones en eventos', 7), ('Desarrollo Regional', 'Publicaciones derivadas de eventos colectivos', 4), ('Desarrollo Regional', 'Sistema Nacional de Investigadores', 1), ('Desarrollo Regional', 'Subcapítulo o artículo de libro', 5), ('Desarrollo Regional', 'Árbitro de artículos de revista', 1), ('Desarrollo Regional', 'Árbitro o dictaminador de capítulo de libro', 6), ('Desarrollo Regional', 'Árbitro o dictaminador de libro', 1), ('Guaymas', 'Artículo científico', 12), ('Guaymas', 'Conferencias/Congresos/Reuniones Cientificas', 23), ('Guaymas', 'Editor asignado por artículo', 3), ('Guaymas', 'Evaluador de proyectos', 1), ('Guaymas', 'Informe interno anual de actividades', 1), ('Guaymas', 'Organización de eventos académicos, de extensión y difusión', 14), ('Guaymas', 'Otras participaciones en eventos', 3), ('Guaymas', 'Publicaciones derivadas de eventos colectivos', 2), ('Guaymas', 'Árbitro de artículos de revista', 5), ('Investigación', 'Artículo científico', 7), ('Investigación', 'Conferencias/Congresos/Reuniones Cientificas', 3), ('Investigación', 'Otras participaciones en eventos', 3), ('Investigación', 'Subcapítulo o artículo de libro', 1), ('Mazatlán', 'Academia Mexicana de Ciencias', 1), ('Mazatlán', 'Artículo científico', 55), ('Mazatlán', 'Capítulo de libro', 5), ('Mazatlán', 'Conferencias/Congresos/Reuniones Cientificas', 30), ('Mazatlán', 'Evaluador de proyectos', 5), ('Mazatlán', 'Miembro de comité editorial', 1), ('Mazatlán', 'Organización de eventos académicos, de extensión y difusión', 3), ('Mazatlán', 'Otras participaciones en eventos', 11), ('Mazatlán', 'Premios', 1), ('Mazatlán', 'Publicaciones derivadas de eventos colectivos', 10), ('Mazatlán', 'Sistema Nacional de Investigadores', 1), ('Mazatlán', 'Sistema Sinaloense de Investigadores y Tecnólogos', 1), ('Mazatlán', 'Árbitro de artículos de revista', 24), ('Nutrición', 'Artículo científico', 35), ('Nutrición', 'Conferencias/Congresos/Reuniones Cientificas', 34), ('Nutrición', 'Editor asignado por artículo', 1), ('Nutrición', 'Evaluador de proyectos', 7), ('Nutrición', 'Organización de eventos académicos, de extensión y difusión', 4), ('Nutrición', 'Otras participaciones en eventos', 7), ('Nutrición', 'Publicaciones derivadas de eventos colectivos', 6), ('Nutrición', 'Sistema Nacional de Investigadores', 1), ('Nutrición', 'Árbitro de artículos de revista', 23), ('Personal de Apoyo', 'Artículo científico', 1), ('Personal de Apoyo', 'Conferencias/Congresos/Reuniones Cientificas', 1), ('Personal de Apoyo', 'Informe interno anual de actividades', 1), ('Personal de Apoyo', 'Organización de eventos académicos, de extensión y difusión', 2), ('TAOA', 'Artículo científico', 67), ('TAOA', 'Capítulo de libro', 24), ('TAOA', 'Conferencias/Congresos/Reuniones Cientificas', 43), ('TAOA', 'Evaluador de proyectos', 5), ('TAOA', 'Miembro de comité editorial', 1), ('TAOA', 'Organización de eventos académicos, de extensión y difusión', 11), ('TAOA', 'Otras participaciones en eventos', 6), ('TAOA', 'Premios', 1), ('TAOA', 'Publicaciones derivadas de eventos colectivos', 10), ('TAOA', 'Sistema Nacional de Investigadores', 2), ('TAOA', 'Árbitro de artículos de revista', 76), ('TAOA', 'Árbitro o dictaminador de libro', 1), ('TAOV', 'Artículo científico', 67), ('TAOV', 'Capítulo de libro', 20), ('TAOV', 'Conferencias/Congresos/Reuniones Cientificas', 53), ('TAOV', 'Editor asignado por número especial', 1), ('TAOV', 'Editor de revista', 1), ('TAOV', 'Evaluador de proyectos', 6), ('TAOV', 'Organización de eventos académicos, de extensión y difusión', 35), ('TAOV', 'Otras participaciones en eventos', 7), ('TAOV', 'Premios', 2), ('TAOV', 'Publicaciones derivadas de eventos colectivos', 10), ('TAOV', 'Sistema Nacional de Investigadores', 3), ('TAOV', 'Árbitro de artículos de revista', 81)]\n"
     ]
    }
   ],
   "source": [
    "#df2.iloc[:].values.tolist()\n",
    "a = df2.index.tolist()\n",
    "b = [(x[0], x[1], y) for x, y in zip(a, df2.values.tolist())]\n",
    "print(b)"
   ]
  },
  {
   "cell_type": "code",
   "execution_count": 43,
   "metadata": {},
   "outputs": [
    {
     "data": {
      "text/plain": [
       "tipo_producto\n",
       "Artículo científico                              440\n",
       "Capítulo de libro                                 88\n",
       "Publicaciones derivadas de eventos colectivos     87\n",
       "Subcapítulo o artículo de libro                    6\n",
       "Informe interno anual de actividades               2\n",
       "Libro                                              1\n",
       "Name: count, dtype: int64"
      ]
     },
     "execution_count": 43,
     "metadata": {},
     "output_type": "execute_result"
    }
   ],
   "source": [
    "pubs = [\n",
    "            'Artículo científico', 'Capítulo de libro', 'Libro',\n",
    "            'Publicaciones derivadas de eventos colectivos',\n",
    "            'Subcapítulo o artículo de libro', 'Informe interno anual de actividades'\n",
    "        ]\n",
    "df2 = df.copy()\n",
    "df2 = df2[df2['tipo_producto'].isin(pubs)]\n",
    "df2['tipo_producto'].value_counts()"
   ]
  },
  {
   "cell_type": "code",
   "execution_count": null,
   "metadata": {},
   "outputs": [
    {
     "data": {
      "text/plain": [
       "estudiante\n",
       "True     348\n",
       "False    276\n",
       "Name: count, dtype: int64"
      ]
     },
     "execution_count": 44,
     "metadata": {},
     "output_type": "execute_result"
    }
   ],
   "source": [
    "str_choro = 'Autores | *Autor de correspondencia | ªEstudiante'\n",
    "df2['estudiante'] = df2[str_choro].str.contains('ª')\n",
    "df2['estudiante'].value_counts()"
   ]
  },
  {
   "cell_type": "code",
   "execution_count": 87,
   "metadata": {},
   "outputs": [
    {
     "data": {
      "text/plain": [
       "CA\n",
       "En el CIAD       377\n",
       "No en el CIAD    247\n",
       "Name: count, dtype: int64"
      ]
     },
     "execution_count": 87,
     "metadata": {},
     "output_type": "execute_result"
    }
   ],
   "source": [
    "df2['provCA'] = df2['*Autor de correspondencia'].str.extract(r'(\\([^\\*]*\\))').replace({r'\\(|\\)': ''}, regex=True).isin(df['coordinacion'].unique())\n",
    "df2['CA'] = 'No en el CIAD'\n",
    "df2.loc[df2['provCA'], 'CA'] = 'En el CIAD'\n",
    "df2['CA'].value_counts()"
   ]
  },
  {
   "cell_type": "code",
   "execution_count": 118,
   "metadata": {},
   "outputs": [
    {
     "data": {
      "text/plain": [
       "tipo_producto                                subtipo_producto                                                   \n",
       "Árbitro de artículos de revista              en revista indizada (ISI, CYT)                                         253\n",
       "Evaluador de proyectos                       Evaluador de proyectos por solicitud de estancias externas              37\n",
       "Árbitro de artículos de revista              en revista indizada (otros indices)                                     13\n",
       "Editor asignado por artículo                 en revista indizada (ISI, CYT)                                           7\n",
       "Miembro de comité editorial                  en revista indizada (ISI, CYT)                                           6\n",
       "Árbitro o dictaminador de capítulo de libro  institución o asociación académica, pública o privada                    6\n",
       "Árbitro de artículos de revista              en revista arbitrada no indizada                                         2\n",
       "Coordinador de libro                         editorial reconocida                                                     1\n",
       "                                             institución o asociación académica, pública o privada con arbitraje      1\n",
       "Editor asignado por número especial          en revista arbitrada e indizada (ISI, CYT)                               1\n",
       "Miembro de comité editorial                  en revista arbitrada no indizada                                         1\n",
       "Editor de revista                            indizada (ISI, CYT)                                                      1\n",
       "                                             arbitrada no indizada                                                    1\n",
       "Editor de libro                              institución o asociación académica, pública o privada con arbitraje      1\n",
       "Editor asignado por artículo                 en revista arbitrada no indizada                                         1\n",
       "Miembro de comité editorial                  en revista indizada (otros indices)                                      1\n",
       "Árbitro o dictaminador de libro              editorial reconocida                                                     1\n",
       "                                             institución o asociación académica, pública o privada                    1\n",
       "Name: count, dtype: int64"
      ]
     },
     "execution_count": 118,
     "metadata": {},
     "output_type": "execute_result"
    }
   ],
   "source": [
    "rev = [\n",
    "            'Árbitro de artículos de revista', 'Evaluador de proyectos',\n",
    "            'Miembro de comité editorial', 'Editor asignado por artículo',\n",
    "            'Árbitro o dictaminador de capítulo de libro',\n",
    "            'Árbitro o dictaminador de libro', 'Editor de revista',\n",
    "            'Coordinador de libro', 'Editor de libro', 'Editor asignado por número especial'\n",
    "        ]\n",
    "\n",
    "dfrev = df[df['tipo_producto'].isin(rev)]\n",
    "dfrev[['tipo_producto', 'subtipo_producto']].value_counts()"
   ]
  },
  {
   "cell_type": "code",
   "execution_count": 119,
   "metadata": {},
   "outputs": [
    {
     "name": "stderr",
     "output_type": "stream",
     "text": [
      "/var/folders/4f/fjhhn5zj3dgfn75f98jfqp6c0000gn/T/ipykernel_83749/3592916053.py:5: SettingWithCopyWarning: \n",
      "A value is trying to be set on a copy of a slice from a DataFrame.\n",
      "Try using .loc[row_indexer,col_indexer] = value instead\n",
      "\n",
      "See the caveats in the documentation: https://pandas.pydata.org/pandas-docs/stable/user_guide/indexing.html#returning-a-view-versus-a-copy\n",
      "  dfrev['sub'] = 'Otro'\n"
     ]
    },
    {
     "data": {
      "text/plain": [
       "sub\n",
       "indizada (ISI, CYT)                    268\n",
       "por solicitud de estancias externas     37\n",
       "indizada (otros indices)                14\n",
       "institución o asociación académica       9\n",
       "no indizada                              5\n",
       "editorial reconocida                     2\n",
       "Name: count, dtype: int64"
      ]
     },
     "execution_count": 119,
     "metadata": {},
     "output_type": "execute_result"
    }
   ],
   "source": [
    "subtipos = ['indizada (ISI, CYT)', 'indizada (otros indices)',\n",
    "                    'no indizada', 'por solicitud de estancias externas',\n",
    "                    'institución o asociación académica', 'editorial reconocida']\n",
    "\n",
    "dfrev['sub'] = 'Otro'\n",
    "for subtipo in subtipos:\n",
    "    dfrev.loc[dfrev['subtipo_producto'].str.contains(subtipo, regex=False), 'sub'] = subtipo\n",
    "    \n",
    "dfrev['sub'].value_counts()\n",
    "\n",
    "\n",
    "\n",
    "\n"
   ]
  },
  {
   "cell_type": "code",
   "execution_count": 121,
   "metadata": {},
   "outputs": [
    {
     "data": {
      "text/plain": [
       "tipo_producto                                      subtipo_producto                          \n",
       "Premios                                            Premio (Coca Cola, Bimbo, Congresos, etc.)    9\n",
       "Sistema Nacional de Investigadores                 Nivel 1                                       3\n",
       "                                                   Nivel 3                                       3\n",
       "                                                   Nivel 2                                       3\n",
       "Academia Mexicana de Ciencias                      Miembros Honorarios                           1\n",
       "Sistema Sinaloense de Investigadores y Tecnólogos  Investigador Honorífico                       1\n",
       "Name: count, dtype: int64"
      ]
     },
     "execution_count": 121,
     "metadata": {},
     "output_type": "execute_result"
    }
   ],
   "source": [
    "rec =[ 'Premios', 'Sistema Nacional de Investigadores',\n",
    "        'Sistema Sinaloense de Investigadores y Tecnólogos', 'Academia Mexicana de Ciencias']\n",
    "dfr = df[df['tipo_producto'].isin(rec)]\n",
    "dfr[['tipo_producto', 'subtipo_producto']].value_counts()"
   ]
  },
  {
   "cell_type": "code",
   "execution_count": 124,
   "metadata": {},
   "outputs": [
    {
     "data": {
      "text/plain": [
       "tipo_producto                                      ambito       \n",
       "Sistema Nacional de Investigadores                 Nacional         9\n",
       "Premios                                            Internacional    7\n",
       "                                                   Nacional         2\n",
       "Academia Mexicana de Ciencias                      Nacional         1\n",
       "Sistema Sinaloense de Investigadores y Tecnólogos  Nacional         1\n",
       "Name: count, dtype: int64"
      ]
     },
     "execution_count": 124,
     "metadata": {},
     "output_type": "execute_result"
    }
   ],
   "source": [
    "dfr[['tipo_producto','ambito']].value_counts()"
   ]
  },
  {
   "cell_type": "code",
   "execution_count": 137,
   "metadata": {},
   "outputs": [
    {
     "data": {
      "text/plain": [
       "tipo_producto                                                ambito       \n",
       "Conferencias/Congresos/Reuniones Cientificas                 Internacional    140\n",
       "                                                             Nacional         121\n",
       "                                                             Regional          84\n",
       "Organización de eventos académicos, de extensión y difusión  Regional          71\n",
       "Otras participaciones en eventos                             Internacional     32\n",
       "                                                             Regional          24\n",
       "                                                             Nacional          19\n",
       "Organización de eventos académicos, de extensión y difusión  Internacional     14\n",
       "                                                             Nacional          12\n",
       "Name: count, dtype: int64"
      ]
     },
     "execution_count": 137,
     "metadata": {},
     "output_type": "execute_result"
    }
   ],
   "source": [
    "eben = [\n",
    "            'Conferencias/Congresos/Reuniones Cientificas',\n",
    "            'Organización de eventos académicos, de extensión y difusión',\n",
    "            'Otras participaciones en eventos']\n",
    "dfe = df[df['tipo_producto'].isin(eben)]\n",
    "dfe[['tipo_producto', 'ambito']].value_counts()"
   ]
  }
 ],
 "metadata": {
  "kernelspec": {
   "display_name": "pandas",
   "language": "python",
   "name": "python3"
  },
  "language_info": {
   "codemirror_mode": {
    "name": "ipython",
    "version": 3
   },
   "file_extension": ".py",
   "mimetype": "text/x-python",
   "name": "python",
   "nbconvert_exporter": "python",
   "pygments_lexer": "ipython3",
   "version": "3.12.5"
  }
 },
 "nbformat": 4,
 "nbformat_minor": 2
}
